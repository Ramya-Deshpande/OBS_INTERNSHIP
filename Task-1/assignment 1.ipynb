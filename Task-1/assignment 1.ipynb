{
 "cells": [
  {
   "cell_type": "markdown",
   "id": "754fa67a",
   "metadata": {},
   "source": [
    "1. Sum of Digits - The Magical Book\n",
    "\n",
    "Story: A little girl named Maya finds an old magical book in her attic. The book contains a puzzle\n",
    "that asks her to find the sum of the digits of a number. Only by solving it can she reveal the book’s\n",
    "next secret.\n",
    "Task: Write a Python program that takes an integer as input and returns the sum of its digits.\n"
   ]
  },
  {
   "cell_type": "code",
   "execution_count": 4,
   "id": "fccd258c",
   "metadata": {},
   "outputs": [
    {
     "name": "stdout",
     "output_type": "stream",
     "text": [
      "Enter a number123\n",
      "Sum of digits of 123 is 6\n"
     ]
    }
   ],
   "source": [
    "number=int(input(\"Enter a number\"))\n",
    "num_str=str(number)\n",
    "no_sum=0\n",
    "for i in num_str:\n",
    "    no_sum+=int(i)\n",
    "print(f\"Sum of digits of {number} is {no_sum}\")"
   ]
  },
  {
   "cell_type": "markdown",
   "id": "da68dac5",
   "metadata": {},
   "source": [
    " 2. Temperature Converter - The Weather Scientist\n",
    " \n",
    "Story: A junior weather scientist is struggling to convert temperatures from Celsius to Fahrenheit\n",
    "and vice versa. His boss has assigned him the task of creating a converter tool to simplify the\n",
    "process.\n",
    "Task: Write a Python program that takes temperature input in Celsius or Fahrenheit, detects the\n",
    "unit, and converts it to the other unit."
   ]
  },
  {
   "cell_type": "code",
   "execution_count": 10,
   "id": "4cf285c6",
   "metadata": {},
   "outputs": [
    {
     "name": "stdout",
     "output_type": "stream",
     "text": [
      "Enter temperature with it's unit as C or F132F\n",
      "F fahrenheit in celsius is 55.56\n"
     ]
    }
   ],
   "source": [
    "temp=input(\"Enter temperature with it's unit as C or F\")\n",
    "unit=temp[-1]\n",
    "value=float(temp[:-1:])\n",
    "if unit=='C':    \n",
    "    far=(value*9/5)+32\n",
    "    print(f\"{unit} celsius in fahrenheit is {far}\")\n",
    "elif unit=='F':\n",
    "    cels=round((value-32)*5/9,2)\n",
    "    print(f\"{unit} fahrenheit in celsius is {cels}\")\n",
    "else:\n",
    "    print(\"Invalid input\")\n"
   ]
  },
  {
   "cell_type": "markdown",
   "id": "eae79ff2",
   "metadata": {},
   "source": [
    "3. Check for Palindrome - The Time Machine Code\n",
    "\n",
    "Story: A young scientist finds an ancient time machine manual with a secret code. The manual\n",
    "says that only palindromic words can activate the machine. Can you help the scientist check if a word\n",
    "is a palindrome?\n",
    "Task: Write a Python program that checks whether a given string is a palindrome (reads the same\n",
    "forward and backward)."
   ]
  },
  {
   "cell_type": "code",
   "execution_count": 14,
   "id": "35f994d8",
   "metadata": {},
   "outputs": [
    {
     "name": "stdout",
     "output_type": "stream",
     "text": [
      "Enter a string: hello\n",
      "hello is not a palindrome\n"
     ]
    }
   ],
   "source": [
    "string1=input(\"Enter a string: \")\n",
    "if string1==string1[::-1]:\n",
    "    print(f\"{string1} is a palindrome\")\n",
    "else:\n",
    "    print(f\"{string1} is not a palindrome\")"
   ]
  },
  {
   "cell_type": "markdown",
   "id": "9f1a4fc8",
   "metadata": {},
   "source": [
    "4. Fibonacci Series - The Alien Signal\n",
    "\n",
    "Story: A group of scientists at NASA has received a mysterious signal from space. The numbers in\n",
    "the signal follow a pattern that looks like the Fibonacci series. To decipher the message, they need to\n",
    "generate the first n numbers in the Fibonacci sequence.\n",
    "Task: Write a Python program that generates the Fibonacci sequence up to n terms."
   ]
  },
  {
   "cell_type": "code",
   "execution_count": 15,
   "id": "42921145",
   "metadata": {},
   "outputs": [
    {
     "name": "stdout",
     "output_type": "stream",
     "text": [
      "Enter the limit5\n",
      "Fibonacci series: 0 1 1 2 3 "
     ]
    }
   ],
   "source": [
    "limit=int(input(\"Enter the limit\"))\n",
    "a=0;b=1;sums=0\n",
    "print(\"Fibonacci series:\",a,b,end=\" \")\n",
    "for i in range(2,limit):\n",
    "    sums=a+b\n",
    "    a=b\n",
    "    b=sums\n",
    "    print(sums,end=\" \")\n",
    "    "
   ]
  },
  {
   "cell_type": "markdown",
   "id": "c0d8c571",
   "metadata": {},
   "source": [
    "5. Count Vowels and Consonants - The Cryptic Scroll\n",
    "\n",
    "Story: A historian finds an ancient scroll written in an unknown language. The first step to\n",
    "translating it is to count the number of vowels and consonants in a given text.\n",
    "Task: Write a Python program that takes a string input and counts the number of vowels and\n",
    "consonants in it."
   ]
  },
  {
   "cell_type": "code",
   "execution_count": 17,
   "id": "b8c045fc",
   "metadata": {},
   "outputs": [
    {
     "name": "stdout",
     "output_type": "stream",
     "text": [
      "Enter a word or sentence:very good evening\n",
      "Number of vowels=6 and number of consonants=9\n"
     ]
    }
   ],
   "source": [
    "sentence=input(\"Enter a word or sentence:\")\n",
    "alphabets=['a','e','i','o','u']\n",
    "ac=0\n",
    "cc=0\n",
    "s2=sentence.lower()\n",
    "for i in s2:\n",
    "    if i.isalpha():\n",
    "        if i in alphabets:\n",
    "            ac+=1\n",
    "        else:\n",
    "            cc+=1\n",
    "print(f\"Number of vowels={ac} and number of consonants={cc}\")"
   ]
  },
  {
   "cell_type": "markdown",
   "id": "8b1080ff",
   "metadata": {},
   "source": [
    "6. Find the Second Largest Number - The Treasure Hunt\n",
    "\n",
    "Story: A pirate finds a map with coordinates leading to treasure. However, to reach the exact\n",
    "location, he must find the second largest number in a given list of coordinates.\n",
    "Task: Write a Python program that finds the second largest number in a list of integers."
   ]
  },
  {
   "cell_type": "code",
   "execution_count": 22,
   "id": "77e8c5d0",
   "metadata": {},
   "outputs": [
    {
     "name": "stdout",
     "output_type": "stream",
     "text": [
      "Enter the numbers (q to stop)\n",
      "8\n",
      "5\n",
      "8\n",
      "q\n",
      "Second highest number is  5.0\n"
     ]
    }
   ],
   "source": [
    "l=[]\n",
    "s=set()\n",
    "print(\"Enter the numbers (q to stop)\")\n",
    "while(True):\n",
    "    no=input()\n",
    "    if no=='q':\n",
    "        break\n",
    "    s.add(float(no))\n",
    "l=list(s)\n",
    "l.sort()\n",
    "\n",
    "print(\"Second highest number is \",l[-2])"
   ]
  },
  {
   "cell_type": "markdown",
   "id": "83b56448",
   "metadata": {},
   "source": [
    "7. Matrix Multiplication - The Quantum Experiment\n",
    "\n",
    "Story: A physicist is conducting a quantum mechanics experiment that requires multiplying two\n",
    "matrices. He needs a program to quickly compute the product of two matrices to continue his\n",
    "research.\n",
    "Task: Write a Python program that performs matrix multiplication using NumPy."
   ]
  },
  {
   "cell_type": "code",
   "execution_count": 23,
   "id": "fb269276",
   "metadata": {},
   "outputs": [
    {
     "name": "stdout",
     "output_type": "stream",
     "text": [
      "Enter number of rows for Matrix A: 2\n",
      "Enter number of columns for Matrix A: 3\n",
      "Enter number of rows for Matrix B: 3\n",
      "Enter number of columns for Matrix B: 2\n",
      "Enter the elements for a 2x3 matrix row-wise (space-separated):\n",
      "1 2 3\n",
      "4 5 6\n",
      "Enter the elements for a 3x2 matrix row-wise (space-separated):\n",
      "7 8\n",
      "9 10\n",
      "11 12\n",
      "Resultant Matrix after multiplication:\n",
      "58 64\n",
      "139 154\n"
     ]
    }
   ],
   "source": [
    "import numpy as np\n",
    "def input_matrix(rows, cols):\n",
    "    print(f\"Enter the elements for a {rows}x{cols} matrix row-wise (space-separated):\")\n",
    "    matrix = []\n",
    "    for _ in range(rows):\n",
    "        row = input().split() \n",
    "        if len(row) != cols:\n",
    "            print(f\"Please enter exactly {cols} numbers!\")\n",
    "            return input_matrix(rows, cols)\n",
    "        row = [int(num) for num in row]  \n",
    "        matrix.append(row)\n",
    "    return np.array(matrix)  \n",
    "\n",
    "rows_A = int(input(\"Enter number of rows for Matrix A: \"))\n",
    "cols_A = int(input(\"Enter number of columns for Matrix A: \"))\n",
    "\n",
    "rows_B = int(input(\"Enter number of rows for Matrix B: \"))\n",
    "cols_B = int(input(\"Enter number of columns for Matrix B: \"))\n",
    "\n",
    "\n",
    "if cols_A != rows_B:\n",
    "    print(\"Matrix multiplication is not possible. Columns of A must equal rows of B.\")\n",
    "else:\n",
    "    \n",
    "    A = input_matrix(rows_A, cols_A)\n",
    "    B = input_matrix(rows_B, cols_B)\n",
    "    result = np.dot(A, B)\n",
    "    print(\"Resultant Matrix after multiplication:\")\n",
    "    for row in result:\n",
    "        print(\" \".join(str(num) for num in row))  \n"
   ]
  },
  {
   "cell_type": "markdown",
   "id": "ad28bca1",
   "metadata": {},
   "source": [
    "8. Data Visualization - Election Poll Analysis\n",
    "\n",
    "Story: A journalist is covering an election and wants to visualize polling data for different\n",
    "candidates. She needs a bar chart showing the number of votes each candidate received.\n",
    "Task: Write a Python program that takes a dictionary of candidate names and vote counts and\n",
    "creates a bar chart using Matplotlib."
   ]
  },
  {
   "cell_type": "code",
   "execution_count": 27,
   "id": "cba9441c",
   "metadata": {},
   "outputs": [
    {
     "name": "stdout",
     "output_type": "stream",
     "text": [
      "Enter candidate name('enter end to stop'):A\n",
      "Enter number of votes100\n",
      "Enter candidate name('enter end to stop'):B\n",
      "Enter number of votes500\n",
      "Enter candidate name('enter end to stop'):end\n"
     ]
    },
    {
     "data": {
      "text/plain": [
       "Text(0, 0.5, 'Number of votes')"
      ]
     },
     "execution_count": 27,
     "metadata": {},
     "output_type": "execute_result"
    },
    {
     "data": {
      "image/png": "[encoded data removed]",
      "text/plain": [
       "<Figure size 640x480 with 1 Axes>"
      ]
     },
     "metadata": {},
     "output_type": "display_data"
    }
   ],
   "source": [
    "d={}\n",
    "while(True):\n",
    "    name=input(\"Enter candidate name('enter end to stop'):\")\n",
    "    if name=='end':\n",
    "        break\n",
    "    vote=int(input(\"Enter number of votes\"))\n",
    "    d[name]=vote\n",
    "import matplotlib.pyplot as plt\n",
    "candidates=list(d.keys())\n",
    "votes=list(d.values())\n",
    "plt.bar(candidates,votes)\n",
    "plt.xlabel('Candidate names')\n",
    "plt.ylabel('Number of votes')"
   ]
  },
  {
   "cell_type": "markdown",
   "id": "aa6c5c5a",
   "metadata": {},
   "source": [
    "9. Data Cleaning and Transformation - The Football Analyst\n",
    "\n",
    "Story: A sports analyst is analyzing football player statistics but finds the data messy. Some player\n",
    "scores are in string format, some values are missing, and there are duplicate entries. Before making\n",
    "predictions, the analyst must clean and standardize the dataset.\n",
    "Task: Write a Python program that:\n",
    "• Converts string numbers to integers where needed.\n",
    "• Replaces missing values with the average score.\n",
    "• Removes duplicate player entries.\n",
    "• Sorts players based on performance."
   ]
  },
  {
   "cell_type": "code",
   "execution_count": 30,
   "id": "7b61817b",
   "metadata": {},
   "outputs": [
    {
     "name": "stdout",
     "output_type": "stream",
     "text": [
      "    Player      Score\n",
      "0    Messi  30.000000\n",
      "1  Ronaldo  28.000000\n",
      "7  Haaland  27.000000\n",
      "2   Neymar  25.428571\n",
      "3   Mbappe  25.000000\n",
      "5     Kane  20.000000\n"
     ]
    }
   ],
   "source": [
    "import pandas as pd\n",
    "import numpy as np\n",
    "data = {\n",
    "    \"Player\": [\"Messi\", \"Ronaldo\", \"Neymar\", \"Mbappe\", \"Messi\", \"Kane\", None, \"Haaland\"],\n",
    "    \"Score\": [\"30\", \"28\", None, \"25\", \"30\", \"20\", \"18\", \"27\"]  # Some values are strings, some missing\n",
    "}\n",
    "df=pd.DataFrame(data)\n",
    "df[\"Score\"] = pd.to_numeric(df[\"Score\"], errors=\"coerce\")\n",
    "average_score = df[\"Score\"].mean()\n",
    "df[\"Score\"].fillna(average_score, inplace=True)\n",
    "df.dropna(subset=[\"Player\"], inplace=True)\n",
    "df.drop_duplicates(inplace=True)\n",
    "df.sort_values(by=\"Score\", ascending=False, inplace=True)\n",
    "print(df)"
   ]
  },
  {
   "cell_type": "markdown",
   "id": "af736223",
   "metadata": {},
   "source": [
    "10. Data Visualization - The Meteorologist’s Report\n",
    "\n",
    "Story: A meteorologist is tracking daily temperature variations for a month. He wants to analyze\n",
    "how the temperatures are distributed and find outliers to predict extreme weather conditions.\n",
    "Task: Write a Python program that:\n",
    "• Generates 30 random temperature values between 10°C and 40°C.\n",
    "• Creates a histogram to show the frequency of temperature ranges.\n",
    "• Draws a box plot to detect outliers."
   ]
  },
  {
   "cell_type": "code",
   "execution_count": 42,
   "id": "8460b527",
   "metadata": {},
   "outputs": [
    {
     "data": {
      "image/png": "[encoded data removed]",
      "text/plain": [
       "<Figure size 640x480 with 2 Axes>"
      ]
     },
     "metadata": {},
     "output_type": "display_data"
    }
   ],
   "source": [
    "import numpy as np\n",
    "import matplotlib.pyplot as plt\n",
    "temperatures=np.random.randint(10,40,30)\n",
    "plt.subplot(1,2,1)\n",
    "plt.hist(temperatures)\n",
    "plt.xlabel(\"Temperature\")\n",
    "plt.ylabel(\"Frequency\")\n",
    "plt.title(\"Temperature distribution\")\n",
    "plt.subplot(1,2,2)\n",
    "plt.boxplot(temperatures)\n",
    "plt.ylabel(\"Temperatures\")\n",
    "plt.title(\"Box plot of temperatures\")\n",
    "plt.tight_layout()"
   ]
  },
  {
   "cell_type": "code",
   "execution_count": null,
   "id": "b7647014",
   "metadata": {},
   "outputs": [],
   "source": []
  }
 ],
 "metadata": {
  "kernelspec": {
   "display_name": "Python 3 (ipykernel)",
   "language": "python",
   "name": "python3"
  },
  "language_info": {
   "codemirror_mode": {
    "name": "ipython",
    "version": 3
   },
   "file_extension": ".py",
   "mimetype": "text/x-python",
   "name": "python",
   "nbconvert_exporter": "python",
   "pygments_lexer": "ipython3",
   "version": "3.11.5"
  }
 },
 "nbformat": 4,
 "nbformat_minor": 5
}
